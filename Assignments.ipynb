{
 "cells": [
  {
   "cell_type": "code",
   "execution_count": 1,
   "id": "b9ab4aba",
   "metadata": {
    "scrolled": true
   },
   "outputs": [
    {
     "name": "stdout",
     "output_type": "stream",
     "text": [
      "2002 2009 2016 2023 2037 2044 2051 2058 2072 2079 2086 2093 2107 2114 2121 2128 2142 2149 2156 2163 2177 2184 2191 2198 2212 2219 2226 2233 2247 2254 2261 2268 2282 2289 2296 2303 2317 2324 2331 2338 2352 2359 2366 2373 2387 2394 2401 2408 2422 2429 2436 2443 2457 2464 2471 2478 2492 2499 2506 2513 2527 2534 2541 2548 2562 2569 2576 2583 2597 2604 2611 2618 2632 2639 2646 2653 2667 2674 2681 2688 2702 2709 2716 2723 2737 2744 2751 2758 2772 2779 2786 2793 2807 2814 2821 2828 2842 2849 2856 2863 2877 2884 2891 2898 2912 2919 2926 2933 2947 2954 2961 2968 2982 2989 2996 3003 3017 3024 3031 3038 3052 3059 3066 3073 3087 3094 3101 3108 3122 3129 3136 3143 3157 3164 3171 3178 3192 3199 "
     ]
    }
   ],
   "source": [
    "for i in range(2000,3201):\n",
    "    if i%7==0 and i%5!=0:\n",
    "        print(i,end= \" \")"
   ]
  },
  {
   "cell_type": "code",
   "execution_count": 4,
   "id": "0a66c308",
   "metadata": {},
   "outputs": [
    {
     "name": "stdout",
     "output_type": "stream",
     "text": [
      "Enter your number6\n",
      "22.360679774997898 "
     ]
    }
   ],
   "source": [
    "a = 50 \n",
    "b = 30\n",
    "c = int(input(\"Enter your number\"))\n",
    "p = (2*a*b/c)**(0.5)                         ##square root ki value 0.5 hoti he \n",
    "print(p,end= \" \")"
   ]
  },
  {
   "cell_type": "code",
   "execution_count": null,
   "id": "39300cda",
   "metadata": {},
   "outputs": [],
   "source": []
  },
  {
   "cell_type": "code",
   "execution_count": 1,
   "id": "b2f84b49",
   "metadata": {},
   "outputs": [
    {
     "name": "stdout",
     "output_type": "stream",
     "text": [
      "Enter characteractics :hello world\n",
      "HELLO WORLD\n",
      "Enter characteractics :practice mean perfact\n",
      "PRACTICE MEAN PERFACT\n"
     ]
    }
   ],
   "source": [
    "for i in range(2):\n",
    "    u = input(\"Enter characteractics :\")\n",
    "    print(u.upper())"
   ]
  },
  {
   "cell_type": "code",
   "execution_count": null,
   "id": "7fe857bc",
   "metadata": {},
   "outputs": [],
   "source": []
  },
  {
   "cell_type": "code",
   "execution_count": 1,
   "id": "abcad351",
   "metadata": {},
   "outputs": [
    {
     "name": "stdout",
     "output_type": "stream",
     "text": [
      "Enter characteristics:usama,khan,jazba\n",
      "['jazba', 'khan', 'usama']\n"
     ]
    }
   ],
   "source": [
    "f = input(\"Enter characteristics:\").split(\",\")\n",
    "f.sort()\n",
    "print(f)"
   ]
  },
  {
   "cell_type": "code",
   "execution_count": 12,
   "id": "8c1ba4fa",
   "metadata": {},
   "outputs": [
    {
     "data": {
      "text/plain": [
       "{'names': ['usama', 'daniyal', 'moiz', 'maaz'],\n",
       " 'cources': ['php', 'python', 'jango', 'flask']}"
      ]
     },
     "execution_count": 12,
     "metadata": {},
     "output_type": "execute_result"
    }
   ],
   "source": [
    "u = {\"names\":[\"usama\",\"daniyal\",\"moiz\",\"maaz\"],\n",
    "    \"cources\":[\"php\",\"python\",\"jango\",\"flask\"]}\n",
    "u"
   ]
  },
  {
   "cell_type": "code",
   "execution_count": 13,
   "id": "b712eae7",
   "metadata": {},
   "outputs": [],
   "source": [
    "import pandas as pd"
   ]
  },
  {
   "cell_type": "code",
   "execution_count": 14,
   "id": "5cec85c8",
   "metadata": {},
   "outputs": [
    {
     "data": {
      "text/html": [
       "<div>\n",
       "<style scoped>\n",
       "    .dataframe tbody tr th:only-of-type {\n",
       "        vertical-align: middle;\n",
       "    }\n",
       "\n",
       "    .dataframe tbody tr th {\n",
       "        vertical-align: top;\n",
       "    }\n",
       "\n",
       "    .dataframe thead th {\n",
       "        text-align: right;\n",
       "    }\n",
       "</style>\n",
       "<table border=\"1\" class=\"dataframe\">\n",
       "  <thead>\n",
       "    <tr style=\"text-align: right;\">\n",
       "      <th></th>\n",
       "      <th>names</th>\n",
       "      <th>cources</th>\n",
       "    </tr>\n",
       "  </thead>\n",
       "  <tbody>\n",
       "    <tr>\n",
       "      <th>0</th>\n",
       "      <td>usama</td>\n",
       "      <td>php</td>\n",
       "    </tr>\n",
       "    <tr>\n",
       "      <th>1</th>\n",
       "      <td>daniyal</td>\n",
       "      <td>python</td>\n",
       "    </tr>\n",
       "    <tr>\n",
       "      <th>2</th>\n",
       "      <td>moiz</td>\n",
       "      <td>jango</td>\n",
       "    </tr>\n",
       "    <tr>\n",
       "      <th>3</th>\n",
       "      <td>maaz</td>\n",
       "      <td>flask</td>\n",
       "    </tr>\n",
       "  </tbody>\n",
       "</table>\n",
       "</div>"
      ],
      "text/plain": [
       "     names cources\n",
       "0    usama     php\n",
       "1  daniyal  python\n",
       "2     moiz   jango\n",
       "3     maaz   flask"
      ]
     },
     "execution_count": 14,
     "metadata": {},
     "output_type": "execute_result"
    }
   ],
   "source": [
    "pd.DataFrame(u)"
   ]
  },
  {
   "cell_type": "code",
   "execution_count": 8,
   "id": "b24d167e",
   "metadata": {},
   "outputs": [
    {
     "name": "stdout",
     "output_type": "stream",
     "text": [
      "Enter your name:usama\n",
      "Enter your score (0,10):1\n",
      "Enter your name:usama\n",
      "Enter your score (0,10):2\n",
      "Enter your name:usama\n",
      "Enter your score (0,10):3\n",
      "Enter your name:usama\n",
      "Enter your score (0,10):4\n",
      "Enter your name:daniyal\n",
      "Enter your score (0,10):2\n",
      "Enter your name:daniyal\n",
      "Enter your score (0,10):3\n",
      "Enter your name:daniyal\n",
      "Enter your score (0,10):4\n",
      "Enter your name:daniyal\n",
      "Enter your score (0,10):4\n",
      "Enter your name:saad\n",
      "Enter your score (0,10):1\n",
      "Enter your name:saad\n",
      "Enter your score (0,10):2\n",
      "Enter your name:saad\n",
      "Enter your score (0,10):3\n",
      "Enter your name:saad\n",
      "Enter your score (0,10):4\n",
      "Enter your name:maaz\n",
      "Enter your score (0,10):1\n",
      "Enter your name:maaz\n",
      "Enter your score (0,10):2\n",
      "Enter your name:maaz\n",
      "Enter your score (0,10):3\n",
      "Enter your name:maaz\n",
      "Enter your score (0,10):4\n",
      "Enter your name:,\n",
      "daniyal : 1.0\n",
      "maaz : 1.0\n",
      "saad : 1.0\n",
      "usama : 1.0\n"
     ]
    },
    {
     "data": {
      "text/plain": [
       "{'usama': (1, 2, 3, 4),\n",
       " 'daniyal': (2, 3, 4, 4),\n",
       " 'saad': (1, 2, 3, 4),\n",
       " 'maaz': (1, 2, 3, 4)}"
      ]
     },
     "execution_count": 8,
     "metadata": {},
     "output_type": "execute_result"
    }
   ],
   "source": [
    "make_dict = {}\n",
    "while True:\n",
    "    u = input(\"Enter your name:\")\n",
    "    if u==\",\":\n",
    "        break\n",
    "    s = int(input(\"Enter your score (0,10):\"))\n",
    "    if s not in range(0,11):\n",
    "        break\n",
    "    if u in make_dict:\n",
    "        make_dict[u] += (s,)\n",
    "    else:\n",
    "        make_dict[u] = (s,)\n",
    "for u in sorted(make_dict.keys()):\n",
    "    adding = 0\n",
    "    counter = 0\n",
    "    for s in make_dict[u]:\n",
    "        adding +=1\n",
    "        counter +=1\n",
    "    print(u,\":\", adding/counter)\n",
    "make_dict"
   ]
  },
  {
   "cell_type": "markdown",
   "id": "d8b9712a",
   "metadata": {},
   "source": [
    "\n"
   ]
  },
  {
   "cell_type": "code",
   "execution_count": 9,
   "id": "b9817538",
   "metadata": {},
   "outputs": [],
   "source": [
    "import pandas as pd"
   ]
  },
  {
   "cell_type": "code",
   "execution_count": 10,
   "id": "64a88181",
   "metadata": {},
   "outputs": [
    {
     "data": {
      "text/html": [
       "<div>\n",
       "<style scoped>\n",
       "    .dataframe tbody tr th:only-of-type {\n",
       "        vertical-align: middle;\n",
       "    }\n",
       "\n",
       "    .dataframe tbody tr th {\n",
       "        vertical-align: top;\n",
       "    }\n",
       "\n",
       "    .dataframe thead th {\n",
       "        text-align: right;\n",
       "    }\n",
       "</style>\n",
       "<table border=\"1\" class=\"dataframe\">\n",
       "  <thead>\n",
       "    <tr style=\"text-align: right;\">\n",
       "      <th></th>\n",
       "      <th>usama</th>\n",
       "      <th>daniyal</th>\n",
       "      <th>saad</th>\n",
       "      <th>maaz</th>\n",
       "    </tr>\n",
       "  </thead>\n",
       "  <tbody>\n",
       "    <tr>\n",
       "      <th>0</th>\n",
       "      <td>1</td>\n",
       "      <td>2</td>\n",
       "      <td>1</td>\n",
       "      <td>1</td>\n",
       "    </tr>\n",
       "    <tr>\n",
       "      <th>1</th>\n",
       "      <td>2</td>\n",
       "      <td>3</td>\n",
       "      <td>2</td>\n",
       "      <td>2</td>\n",
       "    </tr>\n",
       "    <tr>\n",
       "      <th>2</th>\n",
       "      <td>3</td>\n",
       "      <td>4</td>\n",
       "      <td>3</td>\n",
       "      <td>3</td>\n",
       "    </tr>\n",
       "    <tr>\n",
       "      <th>3</th>\n",
       "      <td>4</td>\n",
       "      <td>4</td>\n",
       "      <td>4</td>\n",
       "      <td>4</td>\n",
       "    </tr>\n",
       "  </tbody>\n",
       "</table>\n",
       "</div>"
      ],
      "text/plain": [
       "   usama  daniyal  saad  maaz\n",
       "0      1        2     1     1\n",
       "1      2        3     2     2\n",
       "2      3        4     3     3\n",
       "3      4        4     4     4"
      ]
     },
     "execution_count": 10,
     "metadata": {},
     "output_type": "execute_result"
    }
   ],
   "source": [
    "pd.DataFrame(make_dict)"
   ]
  },
  {
   "cell_type": "code",
   "execution_count": null,
   "id": "6d6bcdf5",
   "metadata": {},
   "outputs": [],
   "source": []
  },
  {
   "cell_type": "code",
   "execution_count": null,
   "id": "a89627f2",
   "metadata": {},
   "outputs": [],
   "source": []
  }
 ],
 "metadata": {
  "kernelspec": {
   "display_name": "Python 3 (ipykernel)",
   "language": "python",
   "name": "python3"
  },
  "language_info": {
   "codemirror_mode": {
    "name": "ipython",
    "version": 3
   },
   "file_extension": ".py",
   "mimetype": "text/x-python",
   "name": "python",
   "nbconvert_exporter": "python",
   "pygments_lexer": "ipython3",
   "version": "3.9.7"
  }
 },
 "nbformat": 4,
 "nbformat_minor": 5
}
