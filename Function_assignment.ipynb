{
 "cells": [
  {
   "cell_type": "code",
   "execution_count": 1,
   "id": "729ba55d",
   "metadata": {},
   "outputs": [],
   "source": [
    "def make_album(artist_name,album_title):\n",
    "    profile={}\n",
    "    profile[\"artist\"]=artist_name\n",
    "    profile[\"album\"]=album_title\n",
    "    return profile\n",
    "    "
   ]
  },
  {
   "cell_type": "code",
   "execution_count": 2,
   "id": "6e5528ff",
   "metadata": {},
   "outputs": [
    {
     "data": {
      "text/plain": [
       "{'artist': 'usama1', 'album': 'book1'}"
      ]
     },
     "execution_count": 2,
     "metadata": {},
     "output_type": "execute_result"
    }
   ],
   "source": [
    "u=make_album(artist_name=\"usama1\",album_title=\"book1\")\n",
    "u"
   ]
  },
  {
   "cell_type": "code",
   "execution_count": 3,
   "id": "e993a195",
   "metadata": {},
   "outputs": [
    {
     "data": {
      "text/plain": [
       "{'artist': 'usama2', 'album': 'book2'}"
      ]
     },
     "execution_count": 3,
     "metadata": {},
     "output_type": "execute_result"
    }
   ],
   "source": [
    "j=make_album(artist_name=\"usama2\",album_title=\"book2\")\n",
    "j"
   ]
  },
  {
   "cell_type": "code",
   "execution_count": 4,
   "id": "7411cb14",
   "metadata": {},
   "outputs": [
    {
     "data": {
      "text/plain": [
       "{'artist': 'usama3', 'album': 'book3'}"
      ]
     },
     "execution_count": 4,
     "metadata": {},
     "output_type": "execute_result"
    }
   ],
   "source": [
    "l=make_album(artist_name=\"usama3\",album_title=\"book3\")\n",
    "l"
   ]
  },
  {
   "cell_type": "code",
   "execution_count": 5,
   "id": "6b89d9f6",
   "metadata": {},
   "outputs": [],
   "source": [
    "def make_album(artist_name,album_title,no_of_tracks=None):\n",
    "    profile={}\n",
    "    profile[\"artist\"]=artist_name\n",
    "    profile[\"album\"]=album_title\n",
    "    if no_of_tracks:                 \n",
    "        profile[\"tracks\"]=no_of_tracks\n",
    "    return profile\n",
    "    "
   ]
  },
  {
   "cell_type": "code",
   "execution_count": 6,
   "id": "e64381d2",
   "metadata": {},
   "outputs": [
    {
     "data": {
      "text/plain": [
       "{'artist': 'usama3', 'album': 'book3', 'tracks': 12}"
      ]
     },
     "execution_count": 6,
     "metadata": {},
     "output_type": "execute_result"
    }
   ],
   "source": [
    "l=make_album(artist_name=\"usama3\",album_title=\"book3\",no_of_tracks=12)\n",
    "l"
   ]
  },
  {
   "cell_type": "code",
   "execution_count": 7,
   "id": "17e8a5ff",
   "metadata": {},
   "outputs": [
    {
     "data": {
      "text/plain": [
       "{'artist': 'usama3', 'album': 'book3'}"
      ]
     },
     "execution_count": 7,
     "metadata": {},
     "output_type": "execute_result"
    }
   ],
   "source": [
    "p=make_album(artist_name=\"usama3\",album_title=\"book3\")\n",
    "p"
   ]
  },
  {
   "cell_type": "markdown",
   "id": "6c2c1de6",
   "metadata": {},
   "source": [
    "# 8.8"
   ]
  },
  {
   "cell_type": "code",
   "execution_count": 8,
   "id": "ada0abe1",
   "metadata": {},
   "outputs": [
    {
     "name": "stdout",
     "output_type": "stream",
     "text": [
      "Enter the album: usama\n",
      "Enter the album: book1\n",
      "Enter the album: quit\n",
      "Enter the album: quit\n"
     ]
    }
   ],
   "source": [
    "Flag = True\n",
    "while Flag:\n",
    "    artist = input(\"Enter the album: \")\n",
    "    album = input(\"Enter the album: \")\n",
    "    if artist and album == \"quit\":\n",
    "        Flag=False\n",
    "    def make_album(artist_name,album_title):\n",
    "        profile={}\n",
    "        profile[\"artist\"]=artist_name\n",
    "        profile[\"album\"]=album_title\n",
    "        return profile\n",
    "    "
   ]
  },
  {
   "cell_type": "code",
   "execution_count": 10,
   "id": "877c4868",
   "metadata": {},
   "outputs": [
    {
     "name": "stdout",
     "output_type": "stream",
     "text": [
      "Enter the artist_name: usama\n",
      "Enter the album_title: book12\n",
      "{'artist': 'usama', 'album': 'book12'}\n",
      "Enter the artist_name: q\n",
      "Enter the album_title: q\n",
      "{'artist': 'q', 'album': 'q'}\n"
     ]
    }
   ],
   "source": [
    "Flag = True\n",
    "while Flag:\n",
    "    artist_name = input(\"Enter the artist_name: \")\n",
    "    if artist_name==\"q\":\n",
    "        Flag=False\n",
    "    album_title = input(\"Enter the album_title: \")\n",
    "    if album_title==\"q\":\n",
    "        Flag=False\n",
    "    print(make_album(artist_name,album_title))\n",
    "    "
   ]
  },
  {
   "cell_type": "code",
   "execution_count": 11,
   "id": "f9fa15f1",
   "metadata": {},
   "outputs": [
    {
     "name": "stdout",
     "output_type": "stream",
     "text": [
      "Enter the artist_name: usama\n",
      "Enter the album_title: \n",
      "{'artist': 'usama', 'album': ''}\n",
      "Enter the artist_name: danyal\n",
      "Enter the album_title: AIDS\n",
      "{'artist': 'danyal', 'album': 'AIDS'}\n",
      "Enter the artist_name: q\n"
     ]
    }
   ],
   "source": [
    "while True:\n",
    "    artist_name = input(\"Enter the artist_name: \")\n",
    "    if artist_name==\"q\":\n",
    "        break\n",
    "    album_title = input(\"Enter the album_title: \")\n",
    "    if album_title==\"q\":\n",
    "        break\n",
    "    print(make_album(artist_name,album_title))\n",
    "    "
   ]
  },
  {
   "cell_type": "code",
   "execution_count": null,
   "id": "4f0b4f26",
   "metadata": {},
   "outputs": [],
   "source": []
  },
  {
   "cell_type": "code",
   "execution_count": null,
   "id": "e47678c2",
   "metadata": {},
   "outputs": [],
   "source": []
  },
  {
   "cell_type": "code",
   "execution_count": null,
   "id": "db6e4574",
   "metadata": {},
   "outputs": [],
   "source": []
  },
  {
   "cell_type": "code",
   "execution_count": null,
   "id": "69216edb",
   "metadata": {},
   "outputs": [],
   "source": []
  },
  {
   "cell_type": "code",
   "execution_count": null,
   "id": "773d5fe4",
   "metadata": {},
   "outputs": [],
   "source": []
  },
  {
   "cell_type": "code",
   "execution_count": null,
   "id": "c5a95670",
   "metadata": {},
   "outputs": [],
   "source": []
  }
 ],
 "metadata": {
  "kernelspec": {
   "display_name": "Python 3 (ipykernel)",
   "language": "python",
   "name": "python3"
  },
  "language_info": {
   "codemirror_mode": {
    "name": "ipython",
    "version": 3
   },
   "file_extension": ".py",
   "mimetype": "text/x-python",
   "name": "python",
   "nbconvert_exporter": "python",
   "pygments_lexer": "ipython3",
   "version": "3.9.7"
  }
 },
 "nbformat": 4,
 "nbformat_minor": 5
}
