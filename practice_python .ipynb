{
 "cells": [
  {
   "cell_type": "code",
   "execution_count": 1,
   "id": "aa1f94d0",
   "metadata": {},
   "outputs": [
    {
     "name": "stdout",
     "output_type": "stream",
     "text": [
      "usama<>khan\n"
     ]
    }
   ],
   "source": [
    "print(\"usama\",\"khan\",sep=\"<>\")           ###sep mean sepreter "
   ]
  },
  {
   "cell_type": "code",
   "execution_count": 13,
   "id": "8c5e7a0a",
   "metadata": {},
   "outputs": [
    {
     "name": "stdout",
     "output_type": "stream",
     "text": [
      "usama \n",
      "khan\n"
     ]
    }
   ],
   "source": [
    "print(\"usama \\nkhan\")                 ### back slach line new line               \n"
   ]
  },
  {
   "cell_type": "code",
   "execution_count": 10,
   "id": "2c7b953e",
   "metadata": {},
   "outputs": [
    {
     "name": "stdout",
     "output_type": "stream",
     "text": [
      "usama khan \tpakistan \n",
      "zindabad\n"
     ]
    }
   ],
   "source": [
    "print(\"usama khan\",\"\\tpakistan \\nzindabad\")    ###\\t space for 5 in tab rule"
   ]
  },
  {
   "cell_type": "markdown",
   "id": "b566de67",
   "metadata": {},
   "source": [
    "# Types of variable \n",
    "## There are four types of variable "
   ]
  },
  {
   "cell_type": "code",
   "execution_count": 11,
   "id": "ae59c779",
   "metadata": {},
   "outputs": [],
   "source": [
    "#####Numbers m 2 types ati he \"whole number\",\"decimal number\"\n",
    "###                             12345678910 , 2.1,2.2,2.3, point wale number ko decimal khete he      \n",
    "### A to z ko alphabet khete he alphabet python m string ko khete he \n",
    "### True or  fa;se python m boolean ko khete he "
   ]
  },
  {
   "cell_type": "code",
   "execution_count": 14,
   "id": "5cb9946f",
   "metadata": {},
   "outputs": [
    {
     "name": "stdout",
     "output_type": "stream",
     "text": [
      "<class 'str'>\n"
     ]
    }
   ],
   "source": [
    "u = (\"usama khan:\")             #### string parameter pass keye \n",
    "print(type(u))"
   ]
  },
  {
   "cell_type": "code",
   "execution_count": 15,
   "id": "94f91dc1",
   "metadata": {},
   "outputs": [
    {
     "name": "stdout",
     "output_type": "stream",
     "text": [
      "<class 'int'>\n"
     ]
    }
   ],
   "source": [
    "num = (23)                    #### number ko python m int khete he \n",
    "print(type(num))"
   ]
  },
  {
   "cell_type": "code",
   "execution_count": 16,
   "id": "c06372bd",
   "metadata": {},
   "outputs": [
    {
     "name": "stdout",
     "output_type": "stream",
     "text": [
      "<class 'float'>\n"
     ]
    }
   ],
   "source": [
    "k = (234.7)                 ### point wali jo value hogi python float consider karega\n",
    "print(type(k))"
   ]
  },
  {
   "cell_type": "code",
   "execution_count": 18,
   "id": "c9e0166c",
   "metadata": {},
   "outputs": [
    {
     "data": {
      "text/plain": [
       "True"
      ]
     },
     "execution_count": 18,
     "metadata": {},
     "output_type": "execute_result"
    }
   ],
   "source": [
    "u==u                       ###boolean equal ke use ke leye use karte he true ya false return kare ga "
   ]
  },
  {
   "cell_type": "code",
   "execution_count": 19,
   "id": "08d6f764",
   "metadata": {},
   "outputs": [
    {
     "data": {
      "text/plain": [
       "False"
      ]
     },
     "execution_count": 19,
     "metadata": {},
     "output_type": "execute_result"
    }
   ],
   "source": [
    "u == k "
   ]
  },
  {
   "cell_type": "markdown",
   "id": "ce9c3d61",
   "metadata": {},
   "source": [
    "# concatenation ke leye + ka sign use krte he 2  string ko add krta he "
   ]
  },
  {
   "cell_type": "code",
   "execution_count": null,
   "id": "cfda3f3a",
   "metadata": {},
   "outputs": [],
   "source": [
    "u = (\"usama khan\")\n",
    "k = (\" pakistan zindabad\")\n",
    "print(u + k)"
   ]
  },
  {
   "cell_type": "code",
   "execution_count": 26,
   "id": "2ea93517",
   "metadata": {},
   "outputs": [
    {
     "name": "stdout",
     "output_type": "stream",
     "text": [
      "usama khan where are u from:\n"
     ]
    }
   ],
   "source": [
    "first_name = (\"usama khan \")\n",
    "last_name = (\"where are u from:\")\n",
    "print(first_name + last_name)"
   ]
  },
  {
   "cell_type": "markdown",
   "id": "959465f0",
   "metadata": {},
   "source": [
    "# String function "
   ]
  },
  {
   "cell_type": "code",
   "execution_count": 27,
   "id": "f28cb76d",
   "metadata": {},
   "outputs": [
    {
     "name": "stdout",
     "output_type": "stream",
     "text": [
      "Usama kha ho m apko deakh rha mil nh rahy ap to muje \n"
     ]
    }
   ],
   "source": [
    "first_variable_name = (\"usama kha ho m apko deakh rha mil nh rahy ap to muje \")\n",
    "print(first_variable_name.capitalize())                 ###capitalize  m jo small hoga first letter ouse capital kr den ga "
   ]
  },
  {
   "cell_type": "code",
   "execution_count": 29,
   "id": "a402bfb8",
   "metadata": {},
   "outputs": [
    {
     "name": "stdout",
     "output_type": "stream",
     "text": [
      "usama kha ho m apko deakh rha mil nh rahy ap to muje \n"
     ]
    }
   ],
   "source": [
    "first_variable_name = (\"Usama kha Ho m apko deakh rha mil nh rahy ap to muje \")\n",
    "print(first_variable_name.casefold())                    ### casefold m jo capital hoga wo small ho jay ga "
   ]
  },
  {
   "cell_type": "code",
   "execution_count": 30,
   "id": "2cfd937c",
   "metadata": {},
   "outputs": [
    {
     "name": "stdout",
     "output_type": "stream",
     "text": [
      "3\n"
     ]
    }
   ],
   "source": [
    "first_variable_name = (\"usama kha ho m apko deakh rha mil nh rahy ap to muje \")\n",
    "print(first_variable_name.count(\"o\"))                   ###count ka function pure sting m \"o\" kitni bar aya wo bta rha "
   ]
  },
  {
   "cell_type": "code",
   "execution_count": 31,
   "id": "c07f211b",
   "metadata": {},
   "outputs": [
    {
     "name": "stdout",
     "output_type": "stream",
     "text": [
      "b'usama kha ho m apko deakh rha mil nh rahy ap to muje '\n"
     ]
    }
   ],
   "source": [
    "first_variable_name = (\"usama kha ho m apko deakh rha mil nh rahy ap to muje\")\n",
    "print(first_variable_name.encode())                   ### encode ka function string ko code m dal dega "
   ]
  },
  {
   "cell_type": "code",
   "execution_count": 1,
   "id": "9ee4ad52",
   "metadata": {},
   "outputs": [
    {
     "name": "stdout",
     "output_type": "stream",
     "text": [
      "True\n"
     ]
    }
   ],
   "source": [
    "first_variable_name = (\"usama kha ho m apko deakh rha mil nh rahy ap to muje\")\n",
    "print(first_variable_name.endswith(\"muje\"))         ##endswith ka function end m is value pr khatam ho rha to True dega"
   ]
  },
  {
   "cell_type": "code",
   "execution_count": 8,
   "id": "b2d683c9",
   "metadata": {},
   "outputs": [
    {
     "name": "stdout",
     "output_type": "stream",
     "text": [
      "48\n"
     ]
    }
   ],
   "source": [
    "first_variable_name = (\"usama kha ho m apko deakh rha mil nh rahy ap to muje \")\n",
    "print(first_variable_name.find(\"muje\"))           ###find ka function jo ap string doge ouse ka index btaye ga "
   ]
  },
  {
   "cell_type": "code",
   "execution_count": 12,
   "id": "c0080bae",
   "metadata": {},
   "outputs": [
    {
     "name": "stdout",
     "output_type": "stream",
     "text": [
      "0\n"
     ]
    }
   ],
   "source": [
    "first_variable_name = (\"usama kha ho m {apko} deakh rha mil nh rahy ap to muje \")\n",
    "print(first_variable_name.index(\"u\"))          ###index bta dega ke ye sting apke kn si index m pari he "
   ]
  },
  {
   "cell_type": "code",
   "execution_count": 15,
   "id": "a1363909",
   "metadata": {},
   "outputs": [
    {
     "name": "stdout",
     "output_type": "stream",
     "text": [
      "False\n"
     ]
    }
   ],
   "source": [
    "first_variable_name = (\"usama kha ho m apko deakh rha mil nh rahy ap to muje12\")\n",
    "print(first_variable_name.isalnum()#isalnum function alphabet hon ge to wo ture dega pr is m spaces lage he is leye false de rha"
   ]
  },
  {
   "cell_type": "code",
   "execution_count": 11,
   "id": "e0b2a68a",
   "metadata": {},
   "outputs": [
    {
     "name": "stdout",
     "output_type": "stream",
     "text": [
      "True\n"
     ]
    }
   ],
   "source": [
    "first_variable_name = (\"usamakhahomapkodeakhrhamilnhrahyaptomuje\")\n",
    "print(first_variable_name.isalnum())      ## is m spacces nh te to True return kya sare alphabet te "
   ]
  },
  {
   "cell_type": "code",
   "execution_count": 1,
   "id": "8a974321",
   "metadata": {},
   "outputs": [
    {
     "name": "stdout",
     "output_type": "stream",
     "text": [
      "True\n"
     ]
    }
   ],
   "source": [
    "first_variable_name = (\"usamakhahomapkodeakhrhaminhrahyaptomuje\")\n",
    "print(first_variable_name.isalpha())     ##isalpha ka function pure string m number kahi be number ajaye to False retuen kare ga "
   ]
  },
  {
   "cell_type": "code",
   "execution_count": 31,
   "id": "9766150c",
   "metadata": {},
   "outputs": [
    {
     "name": "stdout",
     "output_type": "stream",
     "text": [
      "False\n"
     ]
    }
   ],
   "source": [
    "first_variable_name = (\"usama kha ho m apko deakh rha mil nh rahy ap to muje123\")\n",
    "print(first_variable_name.isalpha())"
   ]
  },
  {
   "cell_type": "code",
   "execution_count": 3,
   "id": "3ab94f26",
   "metadata": {},
   "outputs": [
    {
     "name": "stdout",
     "output_type": "stream",
     "text": [
      "True\n"
     ]
    }
   ],
   "source": [
    "first_variable_name = (\"123\")\n",
    "print(first_variable_name.isnumeric())       ##isnumeric function string numbers bta ta he just"
   ]
  },
  {
   "cell_type": "code",
   "execution_count": 7,
   "id": "143a5c10",
   "metadata": {},
   "outputs": [
    {
     "name": "stdout",
     "output_type": "stream",
     "text": [
      "True\n"
     ]
    }
   ],
   "source": [
    "first_variable_name = (\"11234567899000966\")\n",
    "print(first_variable_name.isdecimal())      ##isdecimal function number ke leye use hota"
   ]
  },
  {
   "cell_type": "code",
   "execution_count": 10,
   "id": "3ae6f5a5",
   "metadata": {},
   "outputs": [
    {
     "name": "stdout",
     "output_type": "stream",
     "text": [
      "True\n"
     ]
    }
   ],
   "source": [
    "first_variable_name = (\"123456789012\")\n",
    "print(first_variable_name.isdigit())       ### isdigit function mean number he "
   ]
  },
  {
   "cell_type": "code",
   "execution_count": 16,
   "id": "0346bdf8",
   "metadata": {},
   "outputs": [
    {
     "name": "stdout",
     "output_type": "stream",
     "text": [
      "False\n"
     ]
    }
   ],
   "source": [
    "first_variable_name = (\"USAMA Kha Ho  Apko Deakh Rha\")\n",
    "print(first_variable_name.islower())   ### m pouch rha kya ye lower he wo bta rha false ke ye lower nh he "
   ]
  },
  {
   "cell_type": "code",
   "execution_count": 21,
   "id": "7bcf4555",
   "metadata": {},
   "outputs": [
    {
     "name": "stdout",
     "output_type": "stream",
     "text": [
      "Usama Kha Ho M Apko Deakh Rha Mil Nh Rahy Ap To Muje12\n",
      "usama kha ho m apko deakh rha mil nh rahy ap to muje12\n"
     ]
    }
   ],
   "source": [
    "first_variable_name = (\"usama kha ho m apko deakh rha mil nh rahy ap to muje12\").title()\n",
    "print(first_variable_name)\n",
    "print(first_variable_name.lower())"
   ]
  },
  {
   "cell_type": "code",
   "execution_count": 40,
   "id": "376b7b7b",
   "metadata": {},
   "outputs": [
    {
     "name": "stdout",
     "output_type": "stream",
     "text": [
      "Uusama kha ho m apko deakh rha mil nh rahy ap to muje12S\n"
     ]
    }
   ],
   "source": [
    "first_variable_name = (\"usama kha ho m apko deakh rha mil nh rahy ap to muje12\")\n",
    "print(first_variable_name.join(\"US\"))"
   ]
  },
  {
   "cell_type": "code",
   "execution_count": 22,
   "id": "ab06d8d3",
   "metadata": {},
   "outputs": [
    {
     "name": "stdout",
     "output_type": "stream",
     "text": [
      "['usama', 'kha', 'ho', 'm', 'apko', 'deakh', 'rha', 'mil', 'nh', 'rahy', 'ap', 'to', 'muje12']\n"
     ]
    }
   ],
   "source": [
    "first_variable_name = (\"usama kha ho m apko deakh rha mil nh rahy ap to muje12\")\n",
    "print(first_variable_name.split())      ##split function list m convert kr den ga string ko"
   ]
  },
  {
   "cell_type": "code",
   "execution_count": 23,
   "id": "a61f07ee",
   "metadata": {},
   "outputs": [
    {
     "name": "stdout",
     "output_type": "stream",
     "text": [
      "usama kha ho m apko deakh rha mil nh rahy ap to muje12       \n"
     ]
    }
   ],
   "source": [
    "first_variable_name = (\"            usama kha ho m apko deakh rha mil nh rahy ap to muje12       \")\n",
    "print(first_variable_name.lstrip())    ##lstrip function left side se spaces remove kr dega "
   ]
  },
  {
   "cell_type": "code",
   "execution_count": 24,
   "id": "33de3c12",
   "metadata": {},
   "outputs": [
    {
     "name": "stdout",
     "output_type": "stream",
     "text": [
      "            usama kha ho m apko deakh rha mil nh rahy ap to muje12\n"
     ]
    }
   ],
   "source": [
    "first_variable_name = (\"            usama kha ho m apko deakh rha mil nh rahy ap to muje12       \")\n",
    "print(first_variable_name.rstrip())   ##rstrip function right side se spaces remove kr dega "
   ]
  },
  {
   "cell_type": "code",
   "execution_count": 25,
   "id": "64ed0ec6",
   "metadata": {},
   "outputs": [
    {
     "name": "stdout",
     "output_type": "stream",
     "text": [
      "usama kha ho m apko deakh rha mil nh rahy ap to muje12\n"
     ]
    }
   ],
   "source": [
    "first_variable_name = (\"            usama kha ho m apko deakh rha mil nh rahy ap to muje12       \")\n",
    "print(first_variable_name.())    ##split function right and left dono jga se spaces remove kr dega "
   ]
  },
  {
   "cell_type": "code",
   "execution_count": 26,
   "id": "08fa5467",
   "metadata": {},
   "outputs": [
    {
     "name": "stdout",
     "output_type": "stream",
     "text": [
      "kha ho bhai m yaha hu\n"
     ]
    }
   ],
   "source": [
    "first_variable_name = (\"usama kha ho m apko deakh rha mil nh rahy ap to muje12\")\n",
    "print(first_variable_name.replace(\"usama kha ho m apko deakh rha mil nh rahy ap to muje12\",\"kha ho bhai m yaha hu\"))\n",
    "            ###replace function replace kr dega "
   ]
  },
  {
   "cell_type": "code",
   "execution_count": 7,
   "id": "37fa346f",
   "metadata": {},
   "outputs": [
    {
     "name": "stdout",
     "output_type": "stream",
     "text": [
      "usama khan kha ho ap m yahi hu bhai\n"
     ]
    }
   ],
   "source": [
    "u = (\"usama khan kha ho ap\")\n",
    "j = (\" m yahi hu bhai\")\n",
    "print( u + j )"
   ]
  },
  {
   "cell_type": "code",
   "execution_count": 12,
   "id": "fecfffdc",
   "metadata": {},
   "outputs": [
    {
     "name": "stdout",
     "output_type": "stream",
     "text": [
      "usama khan kha ho ap 1234\n"
     ]
    }
   ],
   "source": [
    "u = (\"usama khan kha ho ap \")\n",
    "j = str( 1234)\n",
    "print( u + j )"
   ]
  },
  {
   "cell_type": "markdown",
   "id": "8f65db53",
   "metadata": {},
   "source": [
    "# String formation"
   ]
  },
  {
   "cell_type": "code",
   "execution_count": 2,
   "id": "cd7761a3",
   "metadata": {},
   "outputs": [
    {
     "name": "stdout",
     "output_type": "stream",
     "text": [
      "Assalam o alikum Dear usama khan kha ho ap  and 1234\n"
     ]
    }
   ],
   "source": [
    "u = (\"usama khan kha ho ap \")\n",
    "j = (1234)\n",
    "print(f\"Assalam o alikum Dear {u} and {j}\")"
   ]
  },
  {
   "cell_type": "markdown",
   "id": "5a57cbc9",
   "metadata": {},
   "source": [
    "# Type casting and user input"
   ]
  },
  {
   "cell_type": "code",
   "execution_count": 3,
   "id": "46da5370",
   "metadata": {},
   "outputs": [
    {
     "name": "stdout",
     "output_type": "stream",
     "text": [
      "Enter a value: usama\n",
      "usama\n"
     ]
    }
   ],
   "source": [
    "u = input(\"Enter a value: \" )\n",
    "print(u)"
   ]
  },
  {
   "cell_type": "code",
   "execution_count": 4,
   "id": "b6e3c033",
   "metadata": {},
   "outputs": [
    {
     "name": "stdout",
     "output_type": "stream",
     "text": [
      "Enter a value: 12345\n",
      "12345\n"
     ]
    }
   ],
   "source": [
    "u = int(input(\"Enter a value: \" ))\n",
    "print(u)                 ###sting ko int m type cast kr lya"
   ]
  },
  {
   "cell_type": "code",
   "execution_count": 1,
   "id": "42f43fea",
   "metadata": {},
   "outputs": [
    {
     "name": "stdout",
     "output_type": "stream",
     "text": [
      "Enter a value: 24.67\n",
      "24\n"
     ]
    }
   ],
   "source": [
    "u = int(float(input(\"Enter a value: \" )))\n",
    "print(u)"
   ]
  },
  {
   "cell_type": "markdown",
   "id": "2787ea1c",
   "metadata": {},
   "source": [
    "# Operators"
   ]
  },
  {
   "cell_type": "code",
   "execution_count": 2,
   "id": "79197585",
   "metadata": {},
   "outputs": [
    {
     "name": "stdout",
     "output_type": "stream",
     "text": [
      "357\n"
     ]
    }
   ],
   "source": [
    "u = 234\n",
    "j = 123\n",
    "print(u+j)"
   ]
  },
  {
   "cell_type": "code",
   "execution_count": 5,
   "id": "204f8cce",
   "metadata": {},
   "outputs": [
    {
     "data": {
      "text/plain": [
       "357"
      ]
     },
     "execution_count": 5,
     "metadata": {},
     "output_type": "execute_result"
    }
   ],
   "source": [
    "234+123       ( + plus ) operator work"
   ]
  },
  {
   "cell_type": "code",
   "execution_count": 6,
   "id": "8082d647",
   "metadata": {},
   "outputs": [
    {
     "data": {
      "text/plain": [
       "23"
      ]
     },
     "execution_count": 6,
     "metadata": {},
     "output_type": "execute_result"
    }
   ],
   "source": [
    "123-100       ( - minus ) operator work"
   ]
  },
  {
   "cell_type": "code",
   "execution_count": 9,
   "id": "fc2a012c",
   "metadata": {},
   "outputs": [
    {
     "data": {
      "text/plain": [
       "5.3478260869565215"
      ]
     },
     "execution_count": 9,
     "metadata": {},
     "output_type": "execute_result"
    }
   ],
   "source": [
    " 123 / 23      ( / divided ) operator work"
   ]
  },
  {
   "cell_type": "code",
   "execution_count": 14,
   "id": "e45eebbe",
   "metadata": {},
   "outputs": [
    {
     "data": {
      "text/plain": [
       "5.3"
      ]
     },
     "execution_count": 14,
     "metadata": {},
     "output_type": "execute_result"
    }
   ],
   "source": [
    "round(5.3478260869565215,1)    ###round value"
   ]
  },
  {
   "cell_type": "code",
   "execution_count": 15,
   "id": "17a168e1",
   "metadata": {},
   "outputs": [
    {
     "data": {
      "text/plain": [
       "5"
      ]
     },
     "execution_count": 15,
     "metadata": {},
     "output_type": "execute_result"
    }
   ],
   "source": [
    "123 //23                     ## // se folat value nh ati"
   ]
  },
  {
   "cell_type": "code",
   "execution_count": 16,
   "id": "907ef3f1",
   "metadata": {},
   "outputs": [
    {
     "data": {
      "text/plain": [
       "36"
      ]
     },
     "execution_count": 16,
     "metadata": {},
     "output_type": "execute_result"
    }
   ],
   "source": [
    "12*3            ( * multiply )"
   ]
  },
  {
   "cell_type": "code",
   "execution_count": 17,
   "id": "112a0c9a",
   "metadata": {},
   "outputs": [
    {
     "data": {
      "text/plain": [
       "3"
      ]
     },
     "execution_count": 17,
     "metadata": {},
     "output_type": "execute_result"
    }
   ],
   "source": [
    "123 % 12                  ## modulio operator reminder number deta he "
   ]
  },
  {
   "cell_type": "code",
   "execution_count": 18,
   "id": "4782e316",
   "metadata": {},
   "outputs": [
    {
     "data": {
      "text/plain": [
       "True"
      ]
     },
     "execution_count": 18,
     "metadata": {},
     "output_type": "execute_result"
    }
   ],
   "source": [
    "12 > 10                  ## 12 bara he 10 se agr jawab tk he to true ho jay ga "
   ]
  },
  {
   "cell_type": "code",
   "execution_count": 19,
   "id": "5767594a",
   "metadata": {},
   "outputs": [
    {
     "data": {
      "text/plain": [
       "False"
      ]
     },
     "execution_count": 19,
     "metadata": {},
     "output_type": "execute_result"
    }
   ],
   "source": [
    "10 >12                 ##  10 bara he 12 se to wrong he to false ho jay ga "
   ]
  },
  {
   "cell_type": "code",
   "execution_count": 20,
   "id": "41317d17",
   "metadata": {},
   "outputs": [
    {
     "data": {
      "text/plain": [
       "False"
      ]
     },
     "execution_count": 20,
     "metadata": {},
     "output_type": "execute_result"
    }
   ],
   "source": [
    "12 < 10"
   ]
  },
  {
   "cell_type": "code",
   "execution_count": 21,
   "id": "ecbe587e",
   "metadata": {},
   "outputs": [
    {
     "data": {
      "text/plain": [
       "False"
      ]
     },
     "execution_count": 21,
     "metadata": {},
     "output_type": "execute_result"
    }
   ],
   "source": [
    "12 <= 10             ### 12 chota  he 10 se ya equal he answer wrong huwa to false a gya "
   ]
  },
  {
   "cell_type": "code",
   "execution_count": 22,
   "id": "69726b53",
   "metadata": {},
   "outputs": [
    {
     "data": {
      "text/plain": [
       "True"
      ]
     },
     "execution_count": 22,
     "metadata": {},
     "output_type": "execute_result"
    }
   ],
   "source": [
    "12 >=10             ### 12 bara he 10 se ya equal he answer tk aya to True huwa "
   ]
  },
  {
   "cell_type": "code",
   "execution_count": 23,
   "id": "1e65a812",
   "metadata": {},
   "outputs": [
    {
     "data": {
      "text/plain": [
       "True"
      ]
     },
     "execution_count": 23,
     "metadata": {},
     "output_type": "execute_result"
    }
   ],
   "source": [
    "10>=10"
   ]
  },
  {
   "cell_type": "code",
   "execution_count": 24,
   "id": "8d6a5d1a",
   "metadata": {},
   "outputs": [
    {
     "data": {
      "text/plain": [
       "True"
      ]
     },
     "execution_count": 24,
     "metadata": {},
     "output_type": "execute_result"
    }
   ],
   "source": [
    "12 != 10         ### 12 ( ! is not ) equal to 10 to answer tk huwa to True return kya "
   ]
  },
  {
   "cell_type": "code",
   "execution_count": 25,
   "id": "f973ecb4",
   "metadata": {},
   "outputs": [
    {
     "data": {
      "text/plain": [
       "False"
      ]
     },
     "execution_count": 25,
     "metadata": {},
     "output_type": "execute_result"
    }
   ],
   "source": [
    "12 != 12"
   ]
  },
  {
   "cell_type": "code",
   "execution_count": 26,
   "id": "74e2bddc",
   "metadata": {},
   "outputs": [
    {
     "data": {
      "text/plain": [
       "False"
      ]
     },
     "execution_count": 26,
     "metadata": {},
     "output_type": "execute_result"
    }
   ],
   "source": [
    "12 == 10       ### 12 equal to equal to 10 to wring huwa false aya \n",
    "               ### compare ke leye == use karen ge "
   ]
  },
  {
   "cell_type": "code",
   "execution_count": 27,
   "id": "aea6f507",
   "metadata": {},
   "outputs": [
    {
     "data": {
      "text/plain": [
       "True"
      ]
     },
     "execution_count": 27,
     "metadata": {},
     "output_type": "execute_result"
    }
   ],
   "source": [
    "12 ==12"
   ]
  },
  {
   "cell_type": "markdown",
   "id": "69434664",
   "metadata": {},
   "source": [
    "# Bitwise operator (i)  complement sign ~"
   ]
  },
  {
   "cell_type": "code",
   "execution_count": 2,
   "id": "90cb4a89",
   "metadata": {},
   "outputs": [
    {
     "data": {
      "text/plain": [
       "-51"
      ]
     },
     "execution_count": 2,
     "metadata": {},
     "output_type": "execute_result"
    }
   ],
   "source": [
    "~50"
   ]
  },
  {
   "cell_type": "code",
   "execution_count": 16,
   "id": "95367fbb",
   "metadata": {},
   "outputs": [
    {
     "data": {
      "text/plain": [
       "-68"
      ]
     },
     "execution_count": 16,
     "metadata": {},
     "output_type": "execute_result"
    }
   ],
   "source": [
    "~67"
   ]
  },
  {
   "cell_type": "markdown",
   "id": "ca39c631",
   "metadata": {},
   "source": [
    "# Bitwise operator (ii) Ampersand sign &"
   ]
  },
  {
   "cell_type": "code",
   "execution_count": 13,
   "id": "96ac4569",
   "metadata": {},
   "outputs": [
    {
     "data": {
      "text/plain": [
       "24"
      ]
     },
     "execution_count": 13,
     "metadata": {},
     "output_type": "execute_result"
    }
   ],
   "source": [
    "24 & 28"
   ]
  },
  {
   "cell_type": "code",
   "execution_count": 14,
   "id": "417ce602",
   "metadata": {},
   "outputs": [
    {
     "data": {
      "text/plain": [
       "8"
      ]
     },
     "execution_count": 14,
     "metadata": {},
     "output_type": "execute_result"
    }
   ],
   "source": [
    "30 & 40"
   ]
  },
  {
   "cell_type": "code",
   "execution_count": 15,
   "id": "207d2963",
   "metadata": {},
   "outputs": [
    {
     "data": {
      "text/plain": [
       "16"
      ]
     },
     "execution_count": 15,
     "metadata": {},
     "output_type": "execute_result"
    }
   ],
   "source": [
    "50 & 80"
   ]
  },
  {
   "cell_type": "markdown",
   "id": "e21b5da6",
   "metadata": {},
   "source": [
    "# Bitwise operator (iii) OR operator sign |"
   ]
  },
  {
   "cell_type": "code",
   "execution_count": 1,
   "id": "c21c972f",
   "metadata": {},
   "outputs": [
    {
     "data": {
      "text/plain": [
       "27"
      ]
     },
     "execution_count": 1,
     "metadata": {},
     "output_type": "execute_result"
    }
   ],
   "source": [
    "25|27"
   ]
  },
  {
   "cell_type": "code",
   "execution_count": 2,
   "id": "a991e5c3",
   "metadata": {},
   "outputs": [
    {
     "data": {
      "text/plain": [
       "31"
      ]
     },
     "execution_count": 2,
     "metadata": {},
     "output_type": "execute_result"
    }
   ],
   "source": [
    "23|29"
   ]
  },
  {
   "cell_type": "markdown",
   "id": "4e4d97b5",
   "metadata": {},
   "source": [
    "# Bitwise operator (iv) Xor operator sign ^"
   ]
  },
  {
   "cell_type": "code",
   "execution_count": 3,
   "id": "fac4821a",
   "metadata": {},
   "outputs": [
    {
     "data": {
      "text/plain": [
       "21"
      ]
     },
     "execution_count": 3,
     "metadata": {},
     "output_type": "execute_result"
    }
   ],
   "source": [
    "12 ^25"
   ]
  },
  {
   "cell_type": "code",
   "execution_count": 4,
   "id": "30d3edd5",
   "metadata": {},
   "outputs": [
    {
     "data": {
      "text/plain": [
       "34"
      ]
     },
     "execution_count": 4,
     "metadata": {},
     "output_type": "execute_result"
    }
   ],
   "source": [
    "50 ^ 16"
   ]
  },
  {
   "cell_type": "markdown",
   "id": "f9f476c1",
   "metadata": {},
   "source": [
    "# Bitwise operator (v) left shift operator sign <<"
   ]
  },
  {
   "cell_type": "code",
   "execution_count": 6,
   "id": "de125c1b",
   "metadata": {},
   "outputs": [
    {
     "data": {
      "text/plain": [
       "200"
      ]
     },
     "execution_count": 6,
     "metadata": {},
     "output_type": "execute_result"
    }
   ],
   "source": [
    "25 <<3"
   ]
  },
  {
   "cell_type": "code",
   "execution_count": 7,
   "id": "0d6860da",
   "metadata": {},
   "outputs": [
    {
     "data": {
      "text/plain": [
       "160"
      ]
     },
     "execution_count": 7,
     "metadata": {},
     "output_type": "execute_result"
    }
   ],
   "source": [
    "20<<3"
   ]
  },
  {
   "cell_type": "markdown",
   "id": "e7115515",
   "metadata": {},
   "source": [
    "# list  "
   ]
  },
  {
   "cell_type": "code",
   "execution_count": 45,
   "id": "6b4e1a17",
   "metadata": {},
   "outputs": [
    {
     "name": "stdout",
     "output_type": "stream",
     "text": [
      "<class 'list'>\n",
      "[1, 2, 3, 4, 5, 6, 7, 8, 9, 0, 10, 12, 34, 5, 67, 8, 9, 6, 4, 3, 3]\n"
     ]
    }
   ],
   "source": [
    "u = [1,2,3,4,5,6,7,8,9,0,10,12,34,5,67,8,9,6,4,3,3]\n",
    "print(type(u))\n",
    "print(u)"
   ]
  },
  {
   "cell_type": "code",
   "execution_count": 40,
   "id": "337ca5aa",
   "metadata": {},
   "outputs": [
    {
     "data": {
      "text/plain": [
       "3"
      ]
     },
     "execution_count": 40,
     "metadata": {},
     "output_type": "execute_result"
    }
   ],
   "source": [
    "u[2]"
   ]
  },
  {
   "cell_type": "code",
   "execution_count": 41,
   "id": "e3eab2a1",
   "metadata": {},
   "outputs": [
    {
     "data": {
      "text/plain": [
       "[3, 4, 5, 6, 7, 8, 9]"
      ]
     },
     "execution_count": 41,
     "metadata": {},
     "output_type": "execute_result"
    }
   ],
   "source": [
    "u[2:9]"
   ]
  },
  {
   "cell_type": "code",
   "execution_count": 46,
   "id": "8bb65c2d",
   "metadata": {},
   "outputs": [
    {
     "name": "stdout",
     "output_type": "stream",
     "text": [
      "[1, 2, 3, 4, 5, 6, 7, 8, 9, 0, 10, 12, 34, 5, 67, 8, 9, 6, 4, 3, 3, 99]\n"
     ]
    }
   ],
   "source": [
    "u.append(99)\n",
    "print(u)"
   ]
  },
  {
   "cell_type": "code",
   "execution_count": 43,
   "id": "8be19ed9",
   "metadata": {},
   "outputs": [
    {
     "data": {
      "text/plain": [
       "[]"
      ]
     },
     "execution_count": 43,
     "metadata": {},
     "output_type": "execute_result"
    }
   ],
   "source": [
    "u.clear()              ## clear ka function puri list clear kr den ga \n",
    "u              "
   ]
  },
  {
   "cell_type": "code",
   "execution_count": 49,
   "id": "2430e982",
   "metadata": {},
   "outputs": [
    {
     "data": {
      "text/plain": [
       "[1, 2, 3, 4, 5, 6, 7, 8, 9, 0, 10, 12, 34, 5, 67, 8, 9, 6, 4, 3, 3, 99]"
      ]
     },
     "execution_count": 49,
     "metadata": {},
     "output_type": "execute_result"
    }
   ],
   "source": [
    "u.copy()"
   ]
  },
  {
   "cell_type": "code",
   "execution_count": 50,
   "id": "65d26ead",
   "metadata": {},
   "outputs": [
    {
     "data": {
      "text/plain": [
       "3"
      ]
     },
     "execution_count": 50,
     "metadata": {},
     "output_type": "execute_result"
    }
   ],
   "source": [
    "u.count(3)       ## 3 kitni dafa aya he  count kr dega "
   ]
  },
  {
   "cell_type": "code",
   "execution_count": 51,
   "id": "43192e5c",
   "metadata": {},
   "outputs": [
    {
     "data": {
      "text/plain": [
       "21"
      ]
     },
     "execution_count": 51,
     "metadata": {},
     "output_type": "execute_result"
    }
   ],
   "source": [
    "u.index(99)      ## list m kn si index pr  para he wo bta rha "
   ]
  },
  {
   "cell_type": "code",
   "execution_count": 52,
   "id": "71478c22",
   "metadata": {},
   "outputs": [
    {
     "data": {
      "text/plain": [
       "[1, 2, 3, 4, 5, 6, 6, 78, 7, 8, 'usama khan']"
      ]
     },
     "execution_count": 52,
     "metadata": {},
     "output_type": "execute_result"
    }
   ],
   "source": [
    "j = [1,2,3,4,5,6,6,78,7,8,'usama khan']\n",
    "j"
   ]
  },
  {
   "cell_type": "code",
   "execution_count": 53,
   "id": "ce5c17f0",
   "metadata": {},
   "outputs": [
    {
     "data": {
      "text/plain": [
       "[1,\n",
       " 2,\n",
       " 3,\n",
       " 4,\n",
       " 5,\n",
       " 6,\n",
       " 6,\n",
       " 78,\n",
       " 7,\n",
       " 8,\n",
       " 'usama khan',\n",
       " 'u',\n",
       " 's',\n",
       " 'a',\n",
       " 'm',\n",
       " 'a',\n",
       " ' ',\n",
       " 'k',\n",
       " 'h',\n",
       " 'a',\n",
       " 'n']"
      ]
     },
     "execution_count": 53,
     "metadata": {},
     "output_type": "execute_result"
    }
   ],
   "source": [
    "j.extend('usama khan')      ## iterable ka matlb he alag alag ho jay ge wo sirf srting pr hota he \n",
    "j"
   ]
  },
  {
   "cell_type": "code",
   "execution_count": 54,
   "id": "63ad1a3c",
   "metadata": {},
   "outputs": [
    {
     "data": {
      "text/plain": [
       "21"
      ]
     },
     "execution_count": 54,
     "metadata": {},
     "output_type": "execute_result"
    }
   ],
   "source": [
    "u.index(99)"
   ]
  },
  {
   "cell_type": "code",
   "execution_count": 58,
   "id": "0cfa8f91",
   "metadata": {},
   "outputs": [
    {
     "data": {
      "text/plain": [
       "[1,\n",
       " 2,\n",
       " 3,\n",
       " 4,\n",
       " 5,\n",
       " 6,\n",
       " 7,\n",
       " 8,\n",
       " 9,\n",
       " 0,\n",
       " 10,\n",
       " 12,\n",
       " 34,\n",
       " 5,\n",
       " 67,\n",
       " 8,\n",
       " 9,\n",
       " 6,\n",
       " 4,\n",
       " 3,\n",
       " 3,\n",
       " 100,\n",
       " 100,\n",
       " 100,\n",
       " 99]"
      ]
     },
     "execution_count": 58,
     "metadata": {},
     "output_type": "execute_result"
    }
   ],
   "source": [
    "u.insert(21,100)\n",
    "u"
   ]
  },
  {
   "cell_type": "code",
   "execution_count": 59,
   "id": "436f6268",
   "metadata": {},
   "outputs": [
    {
     "data": {
      "text/plain": [
       "[1,\n",
       " 2,\n",
       " 3,\n",
       " 4,\n",
       " 5,\n",
       " 6,\n",
       " 7,\n",
       " 8,\n",
       " 9,\n",
       " 0,\n",
       " 10,\n",
       " 12,\n",
       " 34,\n",
       " 5,\n",
       " 67,\n",
       " 8,\n",
       " 9,\n",
       " 6,\n",
       " 4,\n",
       " 3,\n",
       " 3,\n",
       " 100,\n",
       " 100,\n",
       " 100,\n",
       " 99,\n",
       " 101]"
      ]
     },
     "execution_count": 59,
     "metadata": {},
     "output_type": "execute_result"
    }
   ],
   "source": [
    "u.insert(99,101)\n",
    "u"
   ]
  },
  {
   "cell_type": "code",
   "execution_count": 60,
   "id": "871be553",
   "metadata": {},
   "outputs": [
    {
     "data": {
      "text/plain": [
       "101"
      ]
     },
     "execution_count": 60,
     "metadata": {},
     "output_type": "execute_result"
    }
   ],
   "source": [
    "u.pop()"
   ]
  },
  {
   "cell_type": "code",
   "execution_count": 75,
   "id": "bfcad5a0",
   "metadata": {
    "scrolled": true
   },
   "outputs": [
    {
     "data": {
      "text/plain": [
       "[1, 2, 4, 5, 6, 7, 8, 9, 0, 10, 12, 34, 5, 67, 8, 9, 6, 4, 100, 99]"
      ]
     },
     "execution_count": 75,
     "metadata": {},
     "output_type": "execute_result"
    }
   ],
   "source": [
    "u"
   ]
  },
  {
   "cell_type": "code",
   "execution_count": 63,
   "id": "9df2327f",
   "metadata": {},
   "outputs": [
    {
     "data": {
      "text/plain": [
       "[1,\n",
       " 2,\n",
       " 3,\n",
       " 4,\n",
       " 5,\n",
       " 6,\n",
       " 7,\n",
       " 8,\n",
       " 9,\n",
       " 0,\n",
       " 10,\n",
       " 12,\n",
       " 34,\n",
       " 5,\n",
       " 67,\n",
       " 8,\n",
       " 9,\n",
       " 6,\n",
       " 4,\n",
       " 3,\n",
       " 3,\n",
       " 100,\n",
       " 100,\n",
       " 99]"
      ]
     },
     "execution_count": 63,
     "metadata": {},
     "output_type": "execute_result"
    }
   ],
   "source": [
    "u.pop(22)\n",
    "u"
   ]
  },
  {
   "cell_type": "code",
   "execution_count": 64,
   "id": "531e402c",
   "metadata": {},
   "outputs": [
    {
     "data": {
      "text/plain": [
       "100"
      ]
     },
     "execution_count": 64,
     "metadata": {},
     "output_type": "execute_result"
    }
   ],
   "source": [
    "u.pop(21)"
   ]
  },
  {
   "cell_type": "code",
   "execution_count": 85,
   "id": "8c35b993",
   "metadata": {},
   "outputs": [
    {
     "data": {
      "text/plain": [
       "[0, 1, 2, 4, 4, 5, 5, 6, 6, 7, 8, 8, 9, 9, 10, 12, 34, 67, 99, 100]"
      ]
     },
     "execution_count": 85,
     "metadata": {},
     "output_type": "execute_result"
    }
   ],
   "source": [
    "u"
   ]
  },
  {
   "cell_type": "code",
   "execution_count": 87,
   "id": "d5bd50fa",
   "metadata": {},
   "outputs": [
    {
     "data": {
      "text/plain": [
       "[100, 99, 67, 34, 12, 10, 9, 9, 8, 8, 7, 6, 6, 5, 5, 4, 4, 2, 1, 0]"
      ]
     },
     "execution_count": 87,
     "metadata": {},
     "output_type": "execute_result"
    }
   ],
   "source": [
    "u.reverse()\n",
    "u"
   ]
  },
  {
   "cell_type": "code",
   "execution_count": 89,
   "id": "b6e6fa6d",
   "metadata": {},
   "outputs": [
    {
     "data": {
      "text/plain": [
       "[0, 1, 2, 4, 4, 5, 5, 6, 6, 7, 8, 8, 9, 9, 10, 12, 34, 67, 99, 100]"
      ]
     },
     "execution_count": 89,
     "metadata": {},
     "output_type": "execute_result"
    }
   ],
   "source": [
    "u.sort()\n",
    "u"
   ]
  },
  {
   "cell_type": "code",
   "execution_count": 92,
   "id": "074b89bf",
   "metadata": {},
   "outputs": [
    {
     "data": {
      "text/plain": [
       "[0, 1, 2, 4, 4, 5, 5, 6, 6, 7, 8, 8, 9, 9, 10, 12, 34, 67, 99, 100]"
      ]
     },
     "execution_count": 92,
     "metadata": {},
     "output_type": "execute_result"
    }
   ],
   "source": [
    "u.sort(reverse=False)\n",
    "u"
   ]
  },
  {
   "cell_type": "code",
   "execution_count": 93,
   "id": "efad4738",
   "metadata": {},
   "outputs": [
    {
     "data": {
      "text/plain": [
       "[100, 99, 67, 34, 12, 10, 9, 9, 8, 8, 7, 6, 6, 5, 5, 4, 4, 2, 1, 0]"
      ]
     },
     "execution_count": 93,
     "metadata": {},
     "output_type": "execute_result"
    }
   ],
   "source": [
    "u.sort(reverse=True)\n",
    "u"
   ]
  },
  {
   "cell_type": "markdown",
   "id": "62f9c6f6",
   "metadata": {},
   "source": [
    "# Bitwise operator (vi) Right shift operator sign >> "
   ]
  },
  {
   "cell_type": "code",
   "execution_count": null,
   "id": "38affa15",
   "metadata": {},
   "outputs": [],
   "source": []
  },
  {
   "cell_type": "code",
   "execution_count": 8,
   "id": "7c0f047a",
   "metadata": {},
   "outputs": [
    {
     "data": {
      "text/plain": [
       "2"
      ]
     },
     "execution_count": 8,
     "metadata": {},
     "output_type": "execute_result"
    }
   ],
   "source": [
    "10 >> 2"
   ]
  },
  {
   "cell_type": "code",
   "execution_count": 9,
   "id": "9b66895f",
   "metadata": {},
   "outputs": [
    {
     "data": {
      "text/plain": [
       "3"
      ]
     },
     "execution_count": 9,
     "metadata": {},
     "output_type": "execute_result"
    }
   ],
   "source": [
    "25 >> 3"
   ]
  },
  {
   "cell_type": "code",
   "execution_count": 10,
   "id": "7ccb38c2",
   "metadata": {},
   "outputs": [
    {
     "data": {
      "text/plain": [
       "15"
      ]
     },
     "execution_count": 10,
     "metadata": {},
     "output_type": "execute_result"
    }
   ],
   "source": [
    "500 >>5"
   ]
  },
  {
   "cell_type": "markdown",
   "id": "2b81d738",
   "metadata": {},
   "source": [
    "# loops"
   ]
  },
  {
   "cell_type": "code",
   "execution_count": 1,
   "id": "42686ac0",
   "metadata": {},
   "outputs": [
    {
     "name": "stdout",
     "output_type": "stream",
     "text": [
      "1\n",
      "2\n",
      "3\n",
      "4\n",
      "5\n",
      "6\n",
      "7\n",
      "8\n",
      "9\n",
      "10\n"
     ]
    }
   ],
   "source": [
    "num = [1,2,3,4,5,6,7,8,9,10]\n",
    "for i in num:\n",
    "    print(i)"
   ]
  },
  {
   "cell_type": "code",
   "execution_count": 2,
   "id": "2a05693a",
   "metadata": {},
   "outputs": [
    {
     "name": "stdout",
     "output_type": "stream",
     "text": [
      "1\n",
      "2\n",
      "3\n",
      "4\n",
      "5\n"
     ]
    }
   ],
   "source": [
    "for i in range (1,11):\n",
    "    print(i)\n",
    "    if i==5:\n",
    "        break\n",
    "        \n",
    "    "
   ]
  },
  {
   "cell_type": "code",
   "execution_count": 5,
   "id": "2c7765fe",
   "metadata": {},
   "outputs": [
    {
     "name": "stdout",
     "output_type": "stream",
     "text": [
      "1\n",
      "2\n",
      "3\n",
      "4\n",
      "5\n",
      "6\n",
      "7\n",
      "8\n",
      "9\n",
      "10\n",
      "11\n",
      "12\n",
      "13\n",
      "14\n",
      "15\n",
      "16\n",
      "17\n",
      "18\n",
      "19\n",
      "20\n",
      "21\n",
      "23\n",
      "24\n",
      "25\n"
     ]
    }
   ],
   "source": [
    "for i in range(1,26):\n",
    "    if i == 22:\n",
    "        continue\n",
    "    print(i)"
   ]
  },
  {
   "cell_type": "code",
   "execution_count": 12,
   "id": "c8193418",
   "metadata": {},
   "outputs": [
    {
     "name": "stdout",
     "output_type": "stream",
     "text": [
      "Enter your number:4\n",
      "even number4\n",
      "Enter your number:5\n",
      "odd nnumber5\n",
      "Enter your number:7\n",
      "odd nnumber7\n",
      "Enter your number:9\n",
      "odd nnumber9\n",
      "Enter your number:10\n",
      "even number10\n",
      "Enter your number:12\n",
      "even number12\n",
      "Enter your number:13\n",
      "odd nnumber13\n",
      "Enter your number:14\n",
      "even number14\n",
      "Enter your number:15\n",
      "odd nnumber15\n",
      "Enter your number:16\n",
      "even number16\n"
     ]
    }
   ],
   "source": [
    "for i in range(10):\n",
    "    user_input = int(input(\"Enter your number:\"))\n",
    "    if user_input%2==0:\n",
    "        print(f\"even number{user_input}\")\n",
    "    else:\n",
    "        print(f\"odd nnumber{user_input}\")"
   ]
  },
  {
   "cell_type": "code",
   "execution_count": 20,
   "id": "03203022",
   "metadata": {},
   "outputs": [
    {
     "name": "stdout",
     "output_type": "stream",
     "text": [
      "Enter your number:2\n",
      "even number2\n",
      "Enter your number:3\n",
      "odd nnumber3\n",
      "Enter your number:4\n",
      "even number4\n",
      "Enter your number:5\n",
      "odd nnumber5\n",
      "Enter your number:6\n",
      "even number6\n",
      "Enter your number:7\n",
      "odd nnumber7\n",
      "Enter your number:8\n",
      "even number8\n",
      "Enter your number:8\n",
      "even number8\n",
      "Enter your number:9\n",
      "odd nnumber9\n",
      "Enter your number:0\n",
      "even number0\n",
      "[2, 4, 6, 8, 8, 0]\n",
      "[3, 5, 7, 9]\n"
     ]
    }
   ],
   "source": [
    "even=[]\n",
    "odd=[]\n",
    "for i in range(10):\n",
    "    user_input = int(input(\"Enter your number:\"))\n",
    "    if user_input%2==0:\n",
    "        print(f\"even number{user_input}\")\n",
    "        even.append(user_input)\n",
    "    else:\n",
    "        print(f\"odd nnumber{user_input}\")\n",
    "        odd.append(user_input)\n",
    "print(even)\n",
    "print(odd)"
   ]
  },
  {
   "cell_type": "code",
   "execution_count": 27,
   "id": "c86b7496",
   "metadata": {},
   "outputs": [
    {
     "name": "stdout",
     "output_type": "stream",
     "text": [
      "Enter your number:2,4,6,8,10,11,13,15,17\n",
      "even: ['2', '4', '6', '8', '10']\n",
      "odd: ['11', '13', '15', '17']\n"
     ]
    }
   ],
   "source": [
    "user_input = input(\"Enter your number:\").split(',')\n",
    "even=[]\n",
    "odd=[]\n",
    "for i in user_input:\n",
    "    if int(i)%2==0:\n",
    "        even.append(i)\n",
    "    else:\n",
    "        odd.append(i)\n",
    "print(f\"even: {even}\")\n",
    "print(f\"odd: {odd}\")"
   ]
  },
  {
   "cell_type": "code",
   "execution_count": 6,
   "id": "98eb8003",
   "metadata": {},
   "outputs": [
    {
     "name": "stdout",
     "output_type": "stream",
     "text": [
      "Enter your number which table print: 7\n",
      "7*1= 7\n",
      "7*2= 14\n",
      "7*3= 21\n",
      "7*4= 28\n",
      "7*5= 35\n",
      "7*6= 42\n",
      "7*7= 49\n",
      "7*8= 56\n",
      "7*9= 63\n",
      "7*10= 70\n"
     ]
    }
   ],
   "source": [
    "Table = int(input(\"Enter your number which table print: \"))\n",
    "for i in range(1,11):\n",
    "    print(f\"{Table}*{i}= {Table*i}\")"
   ]
  },
  {
   "cell_type": "markdown",
   "id": "d98e859b",
   "metadata": {},
   "source": [
    "# while loop"
   ]
  },
  {
   "cell_type": "code",
   "execution_count": 4,
   "id": "8082d387",
   "metadata": {},
   "outputs": [
    {
     "name": "stdout",
     "output_type": "stream",
     "text": [
      "10\n",
      "9\n",
      "8\n",
      "7\n",
      "6\n",
      "5\n",
      "4\n",
      "3\n",
      "2\n",
      "1\n",
      "0\n"
     ]
    }
   ],
   "source": [
    "a=10\n",
    "while a>=0:\n",
    "    print(a)\n",
    "    a-=1   \n",
    "    "
   ]
  },
  {
   "cell_type": "code",
   "execution_count": null,
   "id": "dd50d075",
   "metadata": {},
   "outputs": [
    {
     "name": "stdout",
     "output_type": "stream",
     "text": [
      "Enter your number favourite dishes and q quit: w\n",
      "Enter your number favourite dishes and q quit: e\n",
      "Enter your number favourite dishes and q quit: r\n",
      "Enter your number favourite dishes and q quit: t\n",
      "Enter your number favourite dishes and q quit: Q\n",
      "Enter your number favourite dishes and q quit: Q\n"
     ]
    }
   ],
   "source": [
    "flag = True\n",
    "dishes= []\n",
    "while flag:\n",
    "    dish = input(\"Enter your number favourite dishes and q quit: \")\n",
    "    dishes.append(dish)\n",
    "    if dish==\"q\" and dish== \"Q\":\n",
    "        flag = False\n",
    "    else:\n",
    "        dishes.append(dish)\n",
    "print(dishes)\n",
    "    "
   ]
  },
  {
   "cell_type": "code",
   "execution_count": 75,
   "id": "41207ce3",
   "metadata": {},
   "outputs": [],
   "source": [
    "def user_salery(name,eos,current):\n",
    "    if eos>=1:\n",
    "        if current<50000:\n",
    "            increament  = current*.20\n",
    "            newcurrent = current+increament\n",
    "            \n",
    "        elif current>=50000 and current<100000:\n",
    "            increament = current *.15\n",
    "            newcurrent = current + increament\n",
    "            \n",
    "        elif current>=100000 and current <=1500000:\n",
    "            increament = current * .10\n",
    "            newcurrent =  current + increament\n",
    "            \n",
    "            \n",
    "        else:\n",
    "            increament = current * .5\n",
    "            newcurrent = current+increament\n",
    "        print(f\"\"\"\n",
    "             empolyee name : {name}\n",
    "             eos           : {eos}\n",
    "             current       : {current}\n",
    "             increament     :{increament}\n",
    "             newcurrent    : {newcurrent}\n",
    "             \"\"\") \n",
    "            \n",
    "               \n",
    "    else:\n",
    "        print(\"less then 5\")\n",
    "   \n",
    "        \n",
    "        \n",
    "            "
   ]
  },
  {
   "cell_type": "code",
   "execution_count": 76,
   "id": "fac34165",
   "metadata": {},
   "outputs": [
    {
     "name": "stdout",
     "output_type": "stream",
     "text": [
      "\n",
      "             empolyee name : usama\n",
      "             eos           : 2\n",
      "             current       : 100000\n",
      "             increament     :10000.0\n",
      "             newcurrent    : 110000.0\n",
      "             \n"
     ]
    }
   ],
   "source": [
    "user_salery(\"usama\",2,100000)"
   ]
  },
  {
   "cell_type": "code",
   "execution_count": 77,
   "id": "03542bf2",
   "metadata": {},
   "outputs": [
    {
     "name": "stdout",
     "output_type": "stream",
     "text": [
      "\n",
      "             empolyee name : maaz\n",
      "             eos           : 2\n",
      "             current       : 60000\n",
      "             increament     :9000.0\n",
      "             newcurrent    : 69000.0\n",
      "             \n"
     ]
    }
   ],
   "source": [
    "user_salery(\"maaz\",2,60000)"
   ]
  },
  {
   "cell_type": "markdown",
   "id": "d23e7ea0",
   "metadata": {},
   "source": [
    "# Conditional statement if, elif, else"
   ]
  },
  {
   "cell_type": "code",
   "execution_count": null,
   "id": "e67dc973",
   "metadata": {},
   "outputs": [],
   "source": []
  },
  {
   "cell_type": "code",
   "execution_count": 12,
   "id": "f2ac4ce8",
   "metadata": {},
   "outputs": [
    {
     "name": "stdout",
     "output_type": "stream",
     "text": [
      "Enter your age:27\n",
      "invalid no\n"
     ]
    }
   ],
   "source": [
    "u = int(input(\"Enter your age:\"))\n",
    "if u <=17 :\n",
    "    print(\"your age is greater then 18\")\n",
    "elif u>=18 and u<=25:\n",
    "    print(\"you can drive\")\n",
    "elif u==26:\n",
    "    print(\"absulotary yes\")\n",
    "else:\n",
    "    print(\"invalid no\")"
   ]
  },
  {
   "cell_type": "markdown",
   "id": "339c5564",
   "metadata": {},
   "source": [
    "# Nested if "
   ]
  },
  {
   "cell_type": "code",
   "execution_count": 18,
   "id": "233aee33",
   "metadata": {},
   "outputs": [
    {
     "name": "stdout",
     "output_type": "stream",
     "text": [
      "Do you have paid fee? paid\n",
      "Do you have admit card? no\n",
      "Do you have roll no issue? yes\n",
      "you can,t appear without admit card\n"
     ]
    }
   ],
   "source": [
    "fee_status = input (\"Do you have paid fee? \")\n",
    "admit_card = input (\"Do you have admit card? \")\n",
    "roll_no  = input (\"Do you have roll no issue? \")\n",
    "if fee_status == \"paid\":\n",
    "    if admit_card == \"yes\":\n",
    "        if roll_no == \"yes\":\n",
    "            print(\"you can appear in exam\")\n",
    "    \n",
    "        else:\n",
    "            print(\"you can,t appear in exam without roll no \")\n",
    "    \n",
    "    else:\n",
    "         print(\"you can,t appear without admit card\")\n",
    "else:\n",
    "    print(\"you can,t appear in exam without fee paid\")"
   ]
  },
  {
   "cell_type": "code",
   "execution_count": null,
   "id": "e26fb25f",
   "metadata": {},
   "outputs": [],
   "source": []
  },
  {
   "cell_type": "code",
   "execution_count": 3,
   "id": "b0a27e28",
   "metadata": {},
   "outputs": [],
   "source": [
    "import numpy as np"
   ]
  },
  {
   "cell_type": "code",
   "execution_count": 13,
   "id": "7f24a3c4",
   "metadata": {},
   "outputs": [
    {
     "name": "stdout",
     "output_type": "stream",
     "text": [
      "[5 6 7 9]\n"
     ]
    }
   ],
   "source": [
    "a = np.array([5,6,7,9])\n",
    "print(a)"
   ]
  },
  {
   "cell_type": "code",
   "execution_count": 14,
   "id": "bf501f88",
   "metadata": {},
   "outputs": [
    {
     "data": {
      "text/plain": [
       "numpy.ndarray"
      ]
     },
     "execution_count": 14,
     "metadata": {},
     "output_type": "execute_result"
    }
   ],
   "source": [
    "type(a)"
   ]
  },
  {
   "cell_type": "code",
   "execution_count": 15,
   "id": "37c43592",
   "metadata": {},
   "outputs": [
    {
     "name": "stdout",
     "output_type": "stream",
     "text": [
      "[[ 7  8  9]\n",
      " [10 11 12]\n",
      " [13 14 15]]\n"
     ]
    }
   ],
   "source": [
    "u = np.array([[7,8,9],[10,11,12],[13,14,15]])\n",
    "print(u)"
   ]
  },
  {
   "cell_type": "code",
   "execution_count": 10,
   "id": "b7c911dc",
   "metadata": {},
   "outputs": [
    {
     "name": "stdout",
     "output_type": "stream",
     "text": [
      "1\n"
     ]
    }
   ],
   "source": [
    "u = [12,13,14,15]\n",
    "print(u.count(12))"
   ]
  },
  {
   "cell_type": "code",
   "execution_count": 3,
   "id": "329bbce3",
   "metadata": {},
   "outputs": [
    {
     "name": "stdout",
     "output_type": "stream",
     "text": [
      "33\n"
     ]
    }
   ],
   "source": [
    "import  statistics\n",
    "u = [125,25,28,33,43]\n",
    "print (statistics. (u))\n"
   ]
  },
  {
   "cell_type": "code",
   "execution_count": 2,
   "id": "081bc08d",
   "metadata": {},
   "outputs": [],
   "source": [
    "import numpy as np\n",
    "import pandas as pd"
   ]
  },
  {
   "cell_type": "code",
   "execution_count": 13,
   "id": "3bf570d0",
   "metadata": {},
   "outputs": [
    {
     "ename": "TypeError",
     "evalue": "'numpy.ndarray' object is not callable",
     "output_type": "error",
     "traceback": [
      "\u001b[1;31m---------------------------------------------------------------------------\u001b[0m",
      "\u001b[1;31mTypeError\u001b[0m                                 Traceback (most recent call last)",
      "\u001b[1;32m~\\AppData\\Local\\Temp/ipykernel_896/3853296102.py\u001b[0m in \u001b[0;36m<module>\u001b[1;34m\u001b[0m\n\u001b[0;32m      1\u001b[0m \u001b[0mu\u001b[0m \u001b[1;33m=\u001b[0m \u001b[0mnp\u001b[0m\u001b[1;33m.\u001b[0m\u001b[0marray\u001b[0m\u001b[1;33m(\u001b[0m\u001b[1;33m[\u001b[0m\u001b[1;36m1\u001b[0m\u001b[1;33m,\u001b[0m\u001b[1;36m2\u001b[0m\u001b[1;33m,\u001b[0m\u001b[1;36m3\u001b[0m\u001b[1;33m,\u001b[0m\u001b[1;36m4\u001b[0m\u001b[1;33m,\u001b[0m\u001b[1;33m]\u001b[0m\u001b[1;33m)\u001b[0m\u001b[1;33m\u001b[0m\u001b[1;33m\u001b[0m\u001b[0m\n\u001b[0;32m      2\u001b[0m \u001b[0mu\u001b[0m\u001b[1;33m\u001b[0m\u001b[1;33m\u001b[0m\u001b[0m\n\u001b[1;32m----> 3\u001b[1;33m \u001b[0ml\u001b[0m \u001b[1;33m=\u001b[0m \u001b[0mu\u001b[0m\u001b[1;33m(\u001b[0m\u001b[0mnp\u001b[0m\u001b[1;33m.\u001b[0m\u001b[0mappend\u001b[0m\u001b[1;33m(\u001b[0m\u001b[1;36m12\u001b[0m\u001b[1;33m,\u001b[0m\u001b[1;36m56\u001b[0m\u001b[1;33m)\u001b[0m\u001b[1;33m)\u001b[0m\u001b[1;33m\u001b[0m\u001b[1;33m\u001b[0m\u001b[0m\n\u001b[0m\u001b[0;32m      4\u001b[0m \u001b[0ml\u001b[0m\u001b[1;33m\u001b[0m\u001b[1;33m\u001b[0m\u001b[0m\n",
      "\u001b[1;31mTypeError\u001b[0m: 'numpy.ndarray' object is not callable"
     ]
    }
   ],
   "source": [
    "u = np.array([1,2,3,4,])\n",
    "u\n",
    "l = np(u.append(12,56))\n",
    "l"
   ]
  },
  {
   "cell_type": "code",
   "execution_count": 10,
   "id": "d5c67045",
   "metadata": {},
   "outputs": [
    {
     "data": {
      "text/plain": [
       "array([2, 3, 4, 5])"
      ]
     },
     "execution_count": 10,
     "metadata": {},
     "output_type": "execute_result"
    }
   ],
   "source": [
    "j= np.array([2,3,4,5])\n",
    "j\n",
    "#j = np.concatenate([u,j])"
   ]
  },
  {
   "cell_type": "code",
   "execution_count": 12,
   "id": "54e3e072",
   "metadata": {},
   "outputs": [
    {
     "data": {
      "text/plain": [
       "array([1, 2, 3, 4, 2, 3, 4, 5])"
      ]
     },
     "execution_count": 12,
     "metadata": {},
     "output_type": "execute_result"
    }
   ],
   "source": [
    "g = np.concatenate([u,j])\n",
    "g"
   ]
  },
  {
   "cell_type": "code",
   "execution_count": 11,
   "id": "645778f2",
   "metadata": {},
   "outputs": [
    {
     "data": {
      "text/plain": [
       "array([1, 2, 3, 4])"
      ]
     },
     "execution_count": 11,
     "metadata": {},
     "output_type": "execute_result"
    }
   ],
   "source": [
    "u"
   ]
  },
  {
   "cell_type": "code",
   "execution_count": 12,
   "id": "9211902c",
   "metadata": {},
   "outputs": [
    {
     "data": {
      "text/plain": [
       "array([12, 56])"
      ]
     },
     "execution_count": 12,
     "metadata": {},
     "output_type": "execute_result"
    }
   ],
   "source": [
    "l"
   ]
  },
  {
   "cell_type": "code",
   "execution_count": 20,
   "id": "460e6a02",
   "metadata": {},
   "outputs": [
    {
     "name": "stdout",
     "output_type": "stream",
     "text": [
      "[1, 2, 3, 4, 5, 6, 'usama', 'false', 'usama']\n"
     ]
    }
   ],
   "source": [
    "list1 = [1,2,3,4,5,6,\"usama\",\"false\",\"usama\"]\n",
    "print(list1)"
   ]
  },
  {
   "cell_type": "code",
   "execution_count": 21,
   "id": "91b89139",
   "metadata": {},
   "outputs": [
    {
     "data": {
      "text/plain": [
       "'usama'"
      ]
     },
     "execution_count": 21,
     "metadata": {},
     "output_type": "execute_result"
    }
   ],
   "source": [
    "list1.pop()"
   ]
  },
  {
   "cell_type": "code",
   "execution_count": 22,
   "id": "6519bc19",
   "metadata": {},
   "outputs": [
    {
     "data": {
      "text/plain": [
       "[1, 2, 3, 4, 5, 6, 'usama', 'false']"
      ]
     },
     "execution_count": 22,
     "metadata": {},
     "output_type": "execute_result"
    }
   ],
   "source": [
    "list1"
   ]
  },
  {
   "cell_type": "code",
   "execution_count": 24,
   "id": "641210ae",
   "metadata": {},
   "outputs": [
    {
     "data": {
      "text/plain": [
       "1"
      ]
     },
     "execution_count": 24,
     "metadata": {},
     "output_type": "execute_result"
    }
   ],
   "source": [
    "list1.pop(0)"
   ]
  },
  {
   "cell_type": "code",
   "execution_count": 25,
   "id": "9023fe51",
   "metadata": {},
   "outputs": [
    {
     "data": {
      "text/plain": [
       "[2, 3, 4, 5, 6, 'usama', 'false']"
      ]
     },
     "execution_count": 25,
     "metadata": {},
     "output_type": "execute_result"
    }
   ],
   "source": [
    "list1"
   ]
  },
  {
   "cell_type": "code",
   "execution_count": null,
   "id": "d4edcbdf",
   "metadata": {},
   "outputs": [],
   "source": []
  }
 ],
 "metadata": {
  "kernelspec": {
   "display_name": "Python 3 (ipykernel)",
   "language": "python",
   "name": "python3"
  },
  "language_info": {
   "codemirror_mode": {
    "name": "ipython",
    "version": 3
   },
   "file_extension": ".py",
   "mimetype": "text/x-python",
   "name": "python",
   "nbconvert_exporter": "python",
   "pygments_lexer": "ipython3",
   "version": "3.9.7"
  }
 },
 "nbformat": 4,
 "nbformat_minor": 5
}
